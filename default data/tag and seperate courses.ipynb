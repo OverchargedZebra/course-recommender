{
 "cells": [
  {
   "cell_type": "code",
   "execution_count": 1,
   "id": "084e6306",
   "metadata": {},
   "outputs": [],
   "source": [
    "import pandas as pd\n",
    "import numpy as np\n",
    "\n",
    "import nltk"
   ]
  },
  {
   "cell_type": "code",
   "execution_count": 2,
   "id": "7bd9faf2",
   "metadata": {},
   "outputs": [
    {
     "name": "stderr",
     "output_type": "stream",
     "text": [
      "[nltk_data] Downloading package stopwords to\n",
      "[nltk_data]     C:\\Users\\ribba/nltk_data...\n",
      "[nltk_data]   Package stopwords is already up-to-date!\n",
      "[nltk_data] Downloading package punkt to C:\\Users\\ribba/nltk_data...\n",
      "[nltk_data]   Package punkt is already up-to-date!\n",
      "[nltk_data] Downloading package wordnet to C:\\Users\\ribba/nltk_data...\n",
      "[nltk_data]   Package wordnet is already up-to-date!\n"
     ]
    },
    {
     "data": {
      "text/plain": [
       "True"
      ]
     },
     "execution_count": 2,
     "metadata": {},
     "output_type": "execute_result"
    }
   ],
   "source": [
    "nltk.download(\"stopwords\")\n",
    "nltk.download(\"punkt\")\n",
    "nltk.download(\"wordnet\")"
   ]
  },
  {
   "cell_type": "code",
   "execution_count": 3,
   "id": "d1caccc1",
   "metadata": {},
   "outputs": [],
   "source": [
    "from nltk.corpus import stopwords\n",
    "from nltk.tokenize import word_tokenize\n",
    "from nltk.stem import WordNetLemmatizer"
   ]
  },
  {
   "cell_type": "code",
   "execution_count": 4,
   "id": "5c7dc21f",
   "metadata": {},
   "outputs": [
    {
     "data": {
      "application/vnd.microsoft.datawrangler.viewer.v0+json": {
       "columns": [
        {
         "name": "index",
         "rawType": "int64",
         "type": "integer"
        },
        {
         "name": "degree_type",
         "rawType": "object",
         "type": "string"
        },
        {
         "name": "difficulty",
         "rawType": "int64",
         "type": "integer"
        },
        {
         "name": "course_name",
         "rawType": "object",
         "type": "string"
        }
       ],
       "ref": "a8bf6777-24f2-4ce2-8752-8ff1c3d50280",
       "rows": [
        [
         "0",
         "accounting and finance",
         "1",
         "principles of financial accounting"
        ],
        [
         "1",
         "accounting and finance",
         "1",
         "principles of management accounting"
        ],
        [
         "2",
         "accounting and finance",
         "2",
         "theory and concepts of accounting - islamic perspective"
        ],
        [
         "3",
         "accounting and finance",
         "2",
         "corporate financial reporting i"
        ],
        [
         "4",
         "accounting and finance",
         "4",
         "applied financial analysis"
        ]
       ],
       "shape": {
        "columns": 3,
        "rows": 5
       }
      },
      "text/html": [
       "<div>\n",
       "<style scoped>\n",
       "    .dataframe tbody tr th:only-of-type {\n",
       "        vertical-align: middle;\n",
       "    }\n",
       "\n",
       "    .dataframe tbody tr th {\n",
       "        vertical-align: top;\n",
       "    }\n",
       "\n",
       "    .dataframe thead th {\n",
       "        text-align: right;\n",
       "    }\n",
       "</style>\n",
       "<table border=\"1\" class=\"dataframe\">\n",
       "  <thead>\n",
       "    <tr style=\"text-align: right;\">\n",
       "      <th></th>\n",
       "      <th>degree_type</th>\n",
       "      <th>difficulty</th>\n",
       "      <th>course_name</th>\n",
       "    </tr>\n",
       "  </thead>\n",
       "  <tbody>\n",
       "    <tr>\n",
       "      <th>0</th>\n",
       "      <td>accounting and finance</td>\n",
       "      <td>1</td>\n",
       "      <td>principles of financial accounting</td>\n",
       "    </tr>\n",
       "    <tr>\n",
       "      <th>1</th>\n",
       "      <td>accounting and finance</td>\n",
       "      <td>1</td>\n",
       "      <td>principles of management accounting</td>\n",
       "    </tr>\n",
       "    <tr>\n",
       "      <th>2</th>\n",
       "      <td>accounting and finance</td>\n",
       "      <td>2</td>\n",
       "      <td>theory and concepts of accounting - islamic pe...</td>\n",
       "    </tr>\n",
       "    <tr>\n",
       "      <th>3</th>\n",
       "      <td>accounting and finance</td>\n",
       "      <td>2</td>\n",
       "      <td>corporate financial reporting i</td>\n",
       "    </tr>\n",
       "    <tr>\n",
       "      <th>4</th>\n",
       "      <td>accounting and finance</td>\n",
       "      <td>4</td>\n",
       "      <td>applied financial analysis</td>\n",
       "    </tr>\n",
       "  </tbody>\n",
       "</table>\n",
       "</div>"
      ],
      "text/plain": [
       "              degree_type  difficulty  \\\n",
       "0  accounting and finance           1   \n",
       "1  accounting and finance           1   \n",
       "2  accounting and finance           2   \n",
       "3  accounting and finance           2   \n",
       "4  accounting and finance           4   \n",
       "\n",
       "                                         course_name  \n",
       "0                 principles of financial accounting  \n",
       "1                principles of management accounting  \n",
       "2  theory and concepts of accounting - islamic pe...  \n",
       "3                    corporate financial reporting i  \n",
       "4                         applied financial analysis  "
      ]
     },
     "execution_count": 4,
     "metadata": {},
     "output_type": "execute_result"
    }
   ],
   "source": [
    "df = pd.read_json(\"list of courses with dept and difficulty.json\")\n",
    "df.rename(columns={\"Offering Dept\": \"degree_type\", \"Difficulty\": \"difficulty\", \"Course Title\": \"course_name\"}, inplace=True)\n",
    "df[\"degree_type\"] = df[\"degree_type\"].str.lower()\n",
    "df[\"course_name\"] = df[\"course_name\"].str.lower()\n",
    "df.head()"
   ]
  },
  {
   "cell_type": "code",
   "execution_count": 5,
   "id": "a4fd9824",
   "metadata": {},
   "outputs": [],
   "source": [
    "degree_types = pd.DataFrame(df[\"degree_type\"].unique(), columns=[\"degree_type\"])\n",
    "degree_types.index = range(1, len(degree_types) + 1)\n",
    "degree_types.index.name = \"id\"\n",
    "degree_types.to_csv(\"degree_type.csv\")"
   ]
  },
  {
   "cell_type": "code",
   "execution_count": 6,
   "id": "4bae6013",
   "metadata": {},
   "outputs": [],
   "source": [
    "course = df[[\"course_name\", \"difficulty\"]]\n",
    "course.index = range(1, len(course) + 1)\n",
    "course.index.name = \"id\"\n",
    "course.to_csv(\"course.csv\")"
   ]
  },
  {
   "cell_type": "code",
   "execution_count": 7,
   "id": "2f7fa0b7",
   "metadata": {},
   "outputs": [],
   "source": [
    "course_with_id = course.reset_index()\\\n",
    "    .rename(columns={\"id\": \"course_id\"})\\\n",
    "    .drop(\"difficulty\", axis=1)\n",
    "\n",
    "degree_with_id = degree_types.reset_index()\\\n",
    "    .rename(columns={\"id\": \"degree_type_id\"})\n",
    "\n",
    "df_modified = df.drop(\"difficulty\", axis=1)\n",
    "\n",
    "course_merged = pd.merge(df_modified, course_with_id, on=\"course_name\", how=\"right\")\n",
    "degree_course = pd.merge(course_merged, degree_with_id, on=\"degree_type\", how=\"inner\")\n",
    "\n",
    "degree_course.drop([\"degree_type\", \"course_name\"], axis=1, inplace=True)\n",
    "degree_course.to_csv(\"degree_course.csv\", index=False)"
   ]
  },
  {
   "cell_type": "code",
   "execution_count": 8,
   "id": "14741155",
   "metadata": {},
   "outputs": [],
   "source": [
    "def generate_tags(row) -> list[str]:\n",
    "    degree_type = row[\"degree_type\"]\n",
    "    course_name = row[\"course_name\"]\n",
    "    complete_text = degree_type + \" \" + course_name\n",
    "    \n",
    "    # tokenize the complete text\n",
    "    tokens = word_tokenize(complete_text)\n",
    "\n",
    "    # Define and remove stop words\n",
    "    stop_words = set(stopwords.words(\"english\"))\n",
    "    custom_words = {\"principles\", \"principle\", \"introduction\", \"of\", \"to\", \"and\", \"in\", \"for\", \"the\", \"with\", \"a\", \"an\", \"i\", \"ii\"}\n",
    "    stop_words.update(custom_words)\n",
    "    filtered_tokens = [word for word in tokens if word.isalpha() and word not in stop_words]\n",
    "\n",
    "    # Lemmatize the remaining words to their root form\n",
    "    lemmatizer = WordNetLemmatizer()\n",
    "    lemmatized_tokens = [lemmatizer.lemmatize(word) for word in filtered_tokens]\n",
    "\n",
    "    # use set to remove any duplicate and list to turn into a list again\n",
    "    final_tags = list(set(lemmatized_tokens))\n",
    "\n",
    "    return final_tags"
   ]
  }
 ],
 "metadata": {
  "kernelspec": {
   "display_name": "py312",
   "language": "python",
   "name": "python3"
  },
  "language_info": {
   "codemirror_mode": {
    "name": "ipython",
    "version": 3
   },
   "file_extension": ".py",
   "mimetype": "text/x-python",
   "name": "python",
   "nbconvert_exporter": "python",
   "pygments_lexer": "ipython3",
   "version": "3.12.11"
  }
 },
 "nbformat": 4,
 "nbformat_minor": 5
}
