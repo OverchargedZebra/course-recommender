{
 "cells": [
  {
   "cell_type": "markdown",
   "id": "a3adbfc7",
   "metadata": {},
   "source": [
    "# Python notebook that is used to get all the default data from the list of courses with department and difficulty"
   ]
  },
  {
   "cell_type": "markdown",
   "id": "8a9a319a",
   "metadata": {},
   "source": [
    "## Import the libraries"
   ]
  },
  {
   "cell_type": "code",
   "execution_count": 12,
   "id": "084e6306",
   "metadata": {},
   "outputs": [],
   "source": [
    "import pandas as pd\n",
    "import numpy as np\n",
    "import itertools as it\n",
    "\n",
    "import nltk"
   ]
  },
  {
   "cell_type": "markdown",
   "id": "6b66b23d",
   "metadata": {},
   "source": [
    "### nltk requires that these modules be downloaded separately"
   ]
  },
  {
   "cell_type": "code",
   "execution_count": 13,
   "id": "7bd9faf2",
   "metadata": {},
   "outputs": [
    {
     "name": "stderr",
     "output_type": "stream",
     "text": [
      "[nltk_data] Downloading package stopwords to\n",
      "[nltk_data]     C:\\Users\\ribba/nltk_data...\n",
      "[nltk_data]   Package stopwords is already up-to-date!\n",
      "[nltk_data] Downloading package punkt to C:\\Users\\ribba/nltk_data...\n",
      "[nltk_data]   Package punkt is already up-to-date!\n",
      "[nltk_data] Downloading package punkt_tab to\n",
      "[nltk_data]     C:\\Users\\ribba/nltk_data...\n",
      "[nltk_data]   Package punkt_tab is already up-to-date!\n",
      "[nltk_data] Downloading package wordnet to C:\\Users\\ribba/nltk_data...\n",
      "[nltk_data]   Package wordnet is already up-to-date!\n"
     ]
    },
    {
     "data": {
      "text/plain": [
       "True"
      ]
     },
     "execution_count": 13,
     "metadata": {},
     "output_type": "execute_result"
    }
   ],
   "source": [
    "nltk.download(\"stopwords\")\n",
    "nltk.download(\"punkt\")\n",
    "nltk.download(\"punkt_tab\")\n",
    "nltk.download(\"wordnet\")"
   ]
  },
  {
   "cell_type": "code",
   "execution_count": 14,
   "id": "d1caccc1",
   "metadata": {},
   "outputs": [],
   "source": [
    "from nltk.corpus import stopwords\n",
    "from nltk.tokenize import word_tokenize\n",
    "from nltk.stem import WordNetLemmatizer"
   ]
  },
  {
   "cell_type": "markdown",
   "id": "3f1ec74d",
   "metadata": {},
   "source": [
    "## Read the file and store them in a pandas data frame"
   ]
  },
  {
   "cell_type": "code",
   "execution_count": 15,
   "id": "5c7dc21f",
   "metadata": {},
   "outputs": [
    {
     "data": {
      "application/vnd.microsoft.datawrangler.viewer.v0+json": {
       "columns": [
        {
         "name": "index",
         "rawType": "int64",
         "type": "integer"
        },
        {
         "name": "degree_type",
         "rawType": "object",
         "type": "string"
        },
        {
         "name": "difficulty",
         "rawType": "int64",
         "type": "integer"
        },
        {
         "name": "course_name",
         "rawType": "object",
         "type": "string"
        }
       ],
       "ref": "f5dc8ffe-f801-487a-a708-baba6e816210",
       "rows": [
        [
         "0",
         "accounting and finance",
         "1",
         "principles of financial accounting"
        ],
        [
         "1",
         "accounting and finance",
         "1",
         "principles of management accounting"
        ],
        [
         "2",
         "accounting and finance",
         "2",
         "theory and concepts of accounting - islamic perspective"
        ],
        [
         "3",
         "accounting and finance",
         "2",
         "corporate financial reporting i"
        ],
        [
         "4",
         "accounting and finance",
         "4",
         "applied financial analysis"
        ]
       ],
       "shape": {
        "columns": 3,
        "rows": 5
       }
      },
      "text/html": [
       "<div>\n",
       "<style scoped>\n",
       "    .dataframe tbody tr th:only-of-type {\n",
       "        vertical-align: middle;\n",
       "    }\n",
       "\n",
       "    .dataframe tbody tr th {\n",
       "        vertical-align: top;\n",
       "    }\n",
       "\n",
       "    .dataframe thead th {\n",
       "        text-align: right;\n",
       "    }\n",
       "</style>\n",
       "<table border=\"1\" class=\"dataframe\">\n",
       "  <thead>\n",
       "    <tr style=\"text-align: right;\">\n",
       "      <th></th>\n",
       "      <th>degree_type</th>\n",
       "      <th>difficulty</th>\n",
       "      <th>course_name</th>\n",
       "    </tr>\n",
       "  </thead>\n",
       "  <tbody>\n",
       "    <tr>\n",
       "      <th>0</th>\n",
       "      <td>accounting and finance</td>\n",
       "      <td>1</td>\n",
       "      <td>principles of financial accounting</td>\n",
       "    </tr>\n",
       "    <tr>\n",
       "      <th>1</th>\n",
       "      <td>accounting and finance</td>\n",
       "      <td>1</td>\n",
       "      <td>principles of management accounting</td>\n",
       "    </tr>\n",
       "    <tr>\n",
       "      <th>2</th>\n",
       "      <td>accounting and finance</td>\n",
       "      <td>2</td>\n",
       "      <td>theory and concepts of accounting - islamic pe...</td>\n",
       "    </tr>\n",
       "    <tr>\n",
       "      <th>3</th>\n",
       "      <td>accounting and finance</td>\n",
       "      <td>2</td>\n",
       "      <td>corporate financial reporting i</td>\n",
       "    </tr>\n",
       "    <tr>\n",
       "      <th>4</th>\n",
       "      <td>accounting and finance</td>\n",
       "      <td>4</td>\n",
       "      <td>applied financial analysis</td>\n",
       "    </tr>\n",
       "  </tbody>\n",
       "</table>\n",
       "</div>"
      ],
      "text/plain": [
       "              degree_type  difficulty  \\\n",
       "0  accounting and finance           1   \n",
       "1  accounting and finance           1   \n",
       "2  accounting and finance           2   \n",
       "3  accounting and finance           2   \n",
       "4  accounting and finance           4   \n",
       "\n",
       "                                         course_name  \n",
       "0                 principles of financial accounting  \n",
       "1                principles of management accounting  \n",
       "2  theory and concepts of accounting - islamic pe...  \n",
       "3                    corporate financial reporting i  \n",
       "4                         applied financial analysis  "
      ]
     },
     "execution_count": 15,
     "metadata": {},
     "output_type": "execute_result"
    }
   ],
   "source": [
    "df = pd.read_json(\"list of courses with dept and difficulty.json\")\n",
    "df.rename(columns={\"Offering Dept\": \"degree_type\", \"Difficulty\": \"difficulty\", \"Course Title\": \"course_name\"}, inplace=True)\n",
    "df[\"degree_type\"] = df[\"degree_type\"].str.lower()\n",
    "df[\"course_name\"] = df[\"course_name\"].str.lower()\n",
    "df.head()"
   ]
  },
  {
   "cell_type": "markdown",
   "id": "8ceb7bda",
   "metadata": {},
   "source": [
    "### Get all the unique degree types and set their index starting from 1"
   ]
  },
  {
   "cell_type": "code",
   "execution_count": 16,
   "id": "a4fd9824",
   "metadata": {},
   "outputs": [],
   "source": [
    "degree_types = pd.DataFrame(df[\"degree_type\"].unique(), columns=[\"degree_type\"])\n",
    "degree_types.index = range(1, len(degree_types) + 1)\n",
    "degree_types.index.name = \"id\"\n",
    "degree_types.to_csv(\"degree_type.csv\")"
   ]
  },
  {
   "cell_type": "markdown",
   "id": "06525c1e",
   "metadata": {},
   "source": [
    "### Get all the courses and set their index starting from 1"
   ]
  },
  {
   "cell_type": "code",
   "execution_count": 17,
   "id": "4bae6013",
   "metadata": {},
   "outputs": [
    {
     "name": "stderr",
     "output_type": "stream",
     "text": [
      "C:\\Users\\ribba\\AppData\\Local\\Temp\\ipykernel_17120\\230490926.py:3: SettingWithCopyWarning: \n",
      "A value is trying to be set on a copy of a slice from a DataFrame\n",
      "\n",
      "See the caveats in the documentation: https://pandas.pydata.org/pandas-docs/stable/user_guide/indexing.html#returning-a-view-versus-a-copy\n",
      "  course.drop_duplicates(subset=\"course_name\", inplace=True)\n"
     ]
    }
   ],
   "source": [
    "course = df[[\"course_name\", \"difficulty\"]]\n",
    "# remove duplicates\n",
    "course.drop_duplicates(subset=\"course_name\", inplace=True)\n",
    "course.index = range(1, len(course) + 1)\n",
    "course.index.name = \"id\"\n",
    "course.to_csv(\"course.csv\")"
   ]
  },
  {
   "cell_type": "markdown",
   "id": "cc30d483",
   "metadata": {},
   "source": [
    "### Make a junction table which would store the id of degree_type and course so that they can be stored efficiently"
   ]
  },
  {
   "cell_type": "code",
   "execution_count": 18,
   "id": "2f7fa0b7",
   "metadata": {},
   "outputs": [],
   "source": [
    "course_with_id = course.reset_index()\\\n",
    "    .rename(columns={\"id\": \"course_id\"})\\\n",
    "    .drop(\"difficulty\", axis=1)\n",
    "\n",
    "degree_with_id = degree_types.reset_index()\\\n",
    "    .rename(columns={\"id\": \"degree_type_id\"})\n",
    "\n",
    "df_modified = df.drop(\"difficulty\", axis=1)\n",
    "\n",
    "course_merged = pd.merge(course_with_id, df_modified, on=\"course_name\", how=\"left\")\n",
    "degree_course = pd.merge(course_merged, degree_with_id, on=\"degree_type\", how=\"left\")\n",
    "\n",
    "degree_course_modified = degree_course.drop([\"degree_type\", \"course_name\"], axis=1)\n",
    "degree_course_modified.to_csv(\"degree_course.csv\", index=False)"
   ]
  },
  {
   "cell_type": "markdown",
   "id": "ce7a04d4",
   "metadata": {},
   "source": [
    "### Process of making tags of each course\n",
    "\n",
    "steps to get tags are:\n",
    "\n",
    "1. combine degree name and course name\n",
    "2. lower case the combined strings\n",
    "3. tokenize the combined string\n",
    "4. remove stop words, add some of our own\n",
    "5. lemmatize the words\n",
    "6. return the list of tags for each course"
   ]
  },
  {
   "cell_type": "code",
   "execution_count": 19,
   "id": "14741155",
   "metadata": {},
   "outputs": [],
   "source": [
    "def generate_tags(row) -> list[str]:\n",
    "    degree_type = row[\"degree_type\"]\n",
    "    course_name = row[\"course_name\"]\n",
    "    complete_text = degree_type + \" \" + course_name\n",
    "    \n",
    "    # tokenize the complete text\n",
    "    tokens = word_tokenize(complete_text)\n",
    "\n",
    "    # Define and remove stop words\n",
    "    stop_words = set(stopwords.words(\"english\"))\n",
    "    custom_words = {\"principles\", \"principle\", \"introduction\", \"introductory\", \"of\", \"to\", \"and\", \"in\", \"for\", \"the\", \"with\", \"a\", \"an\", \"i\", \"ii\"}\n",
    "    stop_words.update(custom_words)\n",
    "    filtered_tokens = [word for word in tokens if word.isalpha() and word not in stop_words]\n",
    "\n",
    "    # Lemmatize the remaining words to their root form\n",
    "    lemmatizer = WordNetLemmatizer()\n",
    "    lemmatized_tokens = [lemmatizer.lemmatize(word) for word in filtered_tokens]\n",
    "\n",
    "    # list of words to exclude from minimum word length\n",
    "    length_exception = [\"art\", \"ai\", \"ml\", \"war\", \"law\", \"lab\", \"jog\", \"iot\"]\n",
    "\n",
    "    # remove tags that are below the maximum word limit and print them\n",
    "    limit_length_tokens = [word for word in lemmatized_tokens if ((len(word) > 3) or (word in length_exception))]\n",
    "\n",
    "    # use set to remove any duplicate and list to turn into a list again\n",
    "    final_tags = list(set(limit_length_tokens))\n",
    "\n",
    "    return final_tags"
   ]
  },
  {
   "cell_type": "code",
   "execution_count": 20,
   "id": "fb0ad0a8",
   "metadata": {},
   "outputs": [
    {
     "data": {
      "application/vnd.microsoft.datawrangler.viewer.v0+json": {
       "columns": [
        {
         "name": "course_id",
         "rawType": "int64",
         "type": "integer"
        },
        {
         "name": "course_tags",
         "rawType": "object",
         "type": "unknown"
        }
       ],
       "ref": "c1359c04-45ad-4f7d-85f9-86ac6a15cb18",
       "rows": [
        [
         "1",
         "['financial', 'accounting', 'finance']"
        ],
        [
         "2",
         "['accounting', 'management', 'finance']"
        ],
        [
         "3",
         "['accounting', 'concept', 'perspective', 'finance', 'islamic', 'theory']"
        ],
        [
         "4",
         "['accounting', 'financial', 'corporate', 'finance', 'reporting']"
        ],
        [
         "5",
         "['accounting', 'analysis', 'financial', 'finance', 'applied']"
        ],
        [
         "6",
         "['accounting', 'governance', 'finance', 'risk', 'compliance']"
        ],
        [
         "7",
         "['accounting', 'finance']"
        ],
        [
         "8",
         "['financial', 'accounting', 'management', 'finance']"
        ],
        [
         "9",
         "['control', 'business', 'accounting', 'administration', 'analytics']"
        ],
        [
         "10",
         "['foundation', 'ai', 'engineering', 'electrical']"
        ],
        [
         "11",
         "['mathematics', 'engineering', 'ai', 'electrical']"
        ],
        [
         "12",
         "['sociology', 'anthropology', 'cultural']"
        ],
        [
         "13",
         "['sociology', 'social', 'anthropology', 'medium']"
        ],
        [
         "14",
         "['life', 'sociology', 'modernity', 'anthropology']"
        ],
        [
         "15",
         "['challenge', 'sociology', 'putting', 'approach', 'developmental', 'science', 'lahore', 'test', 'social', 'anthropology']"
        ],
        [
         "16",
         "['child', 'sociology', 'abraham', 'anthropology']"
        ],
        [
         "17",
         "['sociology', 'beyond', 'asia', 'caste', 'anthropology', 'south']"
        ],
        [
         "18",
         "['biology']"
        ],
        [
         "19",
         "['biology', 'molecular']"
        ],
        [
         "20",
         "['biology', 'genetics']"
        ],
        [
         "21",
         "['method', 'cell', 'biology', 'molecular']"
        ],
        [
         "22",
         "['cell', 'biology']"
        ],
        [
         "23",
         "['computational', 'biology']"
        ],
        [
         "24",
         "['biology', 'seminar']"
        ],
        [
         "25",
         "['biology', 'scientific', 'writing', 'ethic', 'critical', 'thinking']"
        ],
        [
         "26",
         "['computational', 'neuroscience', 'biology']"
        ],
        [
         "27",
         "['advanced', 'method', 'biology']"
        ],
        [
         "28",
         "['technique', 'biophysical', 'biology']"
        ],
        [
         "29",
         "['advanced', 'cell', 'biology', 'molecular']"
        ],
        [
         "30",
         "['pathagenesis', 'biology', 'bacterial', 'mechanism', 'molecular']"
        ],
        [
         "31",
         "['biology']"
        ],
        [
         "32",
         "['biology', 'evolution']"
        ],
        [
         "33",
         "['computational', 'biology']"
        ],
        [
         "34",
         "['chemistry', 'physical']"
        ],
        [
         "35",
         "['chemistry', 'engineering', 'chemical']"
        ],
        [
         "36",
         "['particle', 'chemistry', 'science', 'engineering']"
        ],
        [
         "37",
         "['chemistry', 'engineering', 'lab', 'chemical']"
        ],
        [
         "38",
         "['chemistry', 'pollution']"
        ],
        [
         "39",
         "['separation', 'chemistry', 'process']"
        ],
        [
         "40",
         "['math', 'method', 'chemistry', 'engineering', 'chemical']"
        ],
        [
         "41",
         "['transfer', 'chemistry', 'heat', 'mass']"
        ],
        [
         "42",
         "['chemistry', 'process', 'design', 'chemical']"
        ],
        [
         "43",
         "['chemistry', 'engineering', 'lab', 'chemical']"
        ],
        [
         "44",
         "['chemistry', 'engineering', 'lab', 'chemical']"
        ],
        [
         "45",
         "['renewable', 'energy', 'chemistry', 'economics', 'application', 'fundamental']"
        ],
        [
         "46",
         "['chemistry', 'process', 'safety', 'chemical']"
        ],
        [
         "47",
         "['chemistry', 'environment', 'transport', 'process']"
        ],
        [
         "48",
         "['chemistry']"
        ],
        [
         "49",
         "['chemistry', 'symmetry', 'molecular']"
        ],
        [
         "50",
         "['organic', 'chemistry', 'fundamental']"
        ]
       ],
       "shape": {
        "columns": 1,
        "rows": 405
       }
      },
      "text/plain": [
       "course_id\n",
       "1                       [financial, accounting, finance]\n",
       "2                      [accounting, management, finance]\n",
       "3      [accounting, concept, perspective, finance, is...\n",
       "4      [accounting, financial, corporate, finance, re...\n",
       "5      [accounting, analysis, financial, finance, app...\n",
       "                             ...                        \n",
       "401                 [tutorial, year, engineering, first]\n",
       "402                                 [swimming, beginner]\n",
       "403    [swimming, conditioning, strength, beginner, t...\n",
       "404                     [swimming, basketball, beginner]\n",
       "405              [swimming, walk, stretch, jog, fitness]\n",
       "Name: course_tags, Length: 405, dtype: object"
      ]
     },
     "execution_count": 20,
     "metadata": {},
     "output_type": "execute_result"
    }
   ],
   "source": [
    "course_tags = degree_course.drop_duplicates(subset=\"course_name\").apply(generate_tags, axis=1)\n",
    "course_tags.index = range(1, len(course_tags) + 1)\n",
    "course_tags.index.name = \"course_id\"\n",
    "course_tags.name = \"course_tags\"\n",
    "course_tags"
   ]
  },
  {
   "cell_type": "markdown",
   "id": "b2796fc2",
   "metadata": {},
   "source": [
    "## We need to make the tags unique for tag table"
   ]
  },
  {
   "cell_type": "code",
   "execution_count": 21,
   "id": "2ff75db9",
   "metadata": {},
   "outputs": [],
   "source": [
    "# using itertools we will unpack all strings from the course_tag dataframe\n",
    "# putting them in a set will remove all duplicate values and give us unique tags\n",
    "tag = pd.DataFrame(set(it.chain.from_iterable(course_tags)), columns=[\"tag_name\"])\n",
    "tag.index = range(1, len(tag) + 1)\n",
    "tag.index.name = \"id\"\n",
    "tag.to_csv(\"tag.csv\")"
   ]
  },
  {
   "cell_type": "markdown",
   "id": "701d0739",
   "metadata": {},
   "source": [
    "### make course tags which would have id of all the courses linked with their respective tags"
   ]
  },
  {
   "cell_type": "code",
   "execution_count": 22,
   "id": "8c4d2dd4",
   "metadata": {},
   "outputs": [],
   "source": [
    "tag_with_id = tag.reset_index()\\\n",
    "    .rename(columns={\"id\": \"tag_id\"})\n",
    "\n",
    "course_tags_with_id = course_tags.reset_index()\n",
    "\n",
    "# make the dataframe which would store the id of the tags and courses\n",
    "course_tag = pd.DataFrame(columns=[\"course_id\", \"tag_id\"])\n",
    "\n",
    "for course_id, tags in zip(course_tags_with_id[\"course_id\"], course_tags_with_id[\"course_tags\"]):\n",
    "    for tag_name in tags:\n",
    "        tag_id = tag_with_id.loc[tag_with_id[\"tag_name\"] == tag_name, \"tag_id\"].values[0]\n",
    "        new_row = pd.DataFrame({\"course_id\": [course_id], \"tag_id\": [tag_id]})\n",
    "        course_tag = pd.concat([course_tag, new_row], ignore_index=True)\n",
    "\n",
    "course_tag.to_csv(\"course_tag.csv\", index=False)"
   ]
  }
 ],
 "metadata": {
  "kernelspec": {
   "display_name": "py312",
   "language": "python",
   "name": "python3"
  },
  "language_info": {
   "codemirror_mode": {
    "name": "ipython",
    "version": 3
   },
   "file_extension": ".py",
   "mimetype": "text/x-python",
   "name": "python",
   "nbconvert_exporter": "python",
   "pygments_lexer": "ipython3",
   "version": "3.12.11"
  }
 },
 "nbformat": 4,
 "nbformat_minor": 5
}
